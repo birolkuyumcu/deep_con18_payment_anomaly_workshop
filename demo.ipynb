{
 "cells": [
  {
   "cell_type": "code",
   "execution_count": 1,
   "metadata": {
    "slideshow": {
     "slide_type": "slide"
    }
   },
   "outputs": [],
   "source": [
    "import os\n",
    "os.environ[\"KERAS_BACKEND\"] = \"cntk\""
   ]
  },
  {
   "cell_type": "code",
   "execution_count": 2,
   "metadata": {
    "slideshow": {
     "slide_type": "slide"
    }
   },
   "outputs": [],
   "source": [
    "import pandas as pd\n",
    "import numpy as np\n",
    "import random\n",
    "from datetime import datetime,timedelta\n",
    "import  math\n",
    "import pickle\n",
    "import matplotlib.pyplot as plt\n",
    "%matplotlib inline"
   ]
  },
  {
   "cell_type": "markdown",
   "metadata": {
    "slideshow": {
     "slide_type": "slide"
    }
   },
   "source": [
    "# Veriyi Yükleme"
   ]
  },
  {
   "cell_type": "code",
   "execution_count": 3,
   "metadata": {
    "slideshow": {
     "slide_type": "slide"
    }
   },
   "outputs": [],
   "source": [
    "df = pd.read_csv('demo.csv',encoding='utf8')"
   ]
  },
  {
   "cell_type": "code",
   "execution_count": 7,
   "metadata": {
    "slideshow": {
     "slide_type": "slide"
    }
   },
   "outputs": [
    {
     "data": {
      "text/html": [
       "<div>\n",
       "<style scoped>\n",
       "    .dataframe tbody tr th:only-of-type {\n",
       "        vertical-align: middle;\n",
       "    }\n",
       "\n",
       "    .dataframe tbody tr th {\n",
       "        vertical-align: top;\n",
       "    }\n",
       "\n",
       "    .dataframe thead th {\n",
       "        text-align: right;\n",
       "    }\n",
       "</style>\n",
       "<table border=\"1\" class=\"dataframe\">\n",
       "  <thead>\n",
       "    <tr style=\"text-align: right;\">\n",
       "      <th></th>\n",
       "      <th>Payment_Date</th>\n",
       "      <th>Payment_Total</th>\n",
       "    </tr>\n",
       "  </thead>\n",
       "  <tbody>\n",
       "    <tr>\n",
       "      <th>0</th>\n",
       "      <td>2018-01-01 00:00:00</td>\n",
       "      <td>4530.655276</td>\n",
       "    </tr>\n",
       "    <tr>\n",
       "      <th>1</th>\n",
       "      <td>2018-01-01 01:00:00</td>\n",
       "      <td>4158.526500</td>\n",
       "    </tr>\n",
       "    <tr>\n",
       "      <th>2</th>\n",
       "      <td>2018-01-01 02:00:00</td>\n",
       "      <td>1174.322270</td>\n",
       "    </tr>\n",
       "    <tr>\n",
       "      <th>3</th>\n",
       "      <td>2018-01-01 03:00:00</td>\n",
       "      <td>1431.577385</td>\n",
       "    </tr>\n",
       "    <tr>\n",
       "      <th>4</th>\n",
       "      <td>2018-01-01 04:00:00</td>\n",
       "      <td>1030.975000</td>\n",
       "    </tr>\n",
       "  </tbody>\n",
       "</table>\n",
       "</div>"
      ],
      "text/plain": [
       "          Payment_Date  Payment_Total\n",
       "0  2018-01-01 00:00:00    4530.655276\n",
       "1  2018-01-01 01:00:00    4158.526500\n",
       "2  2018-01-01 02:00:00    1174.322270\n",
       "3  2018-01-01 03:00:00    1431.577385\n",
       "4  2018-01-01 04:00:00    1030.975000"
      ]
     },
     "execution_count": 7,
     "metadata": {},
     "output_type": "execute_result"
    }
   ],
   "source": [
    "df.head()"
   ]
  },
  {
   "cell_type": "code",
   "execution_count": 6,
   "metadata": {
    "slideshow": {
     "slide_type": "slide"
    }
   },
   "outputs": [
    {
     "data": {
      "text/plain": [
       "count     6486.000000\n",
       "mean      7486.894764\n",
       "std       6024.058052\n",
       "min          0.000000\n",
       "25%       2215.052346\n",
       "50%       7006.007000\n",
       "75%      10931.131397\n",
       "max      82419.133547\n",
       "Name: Payment_Total, dtype: float64"
      ]
     },
     "execution_count": 6,
     "metadata": {},
     "output_type": "execute_result"
    }
   ],
   "source": [
    "df.Payment_Total.describe()"
   ]
  },
  {
   "cell_type": "markdown",
   "metadata": {
    "slideshow": {
     "slide_type": "slide"
    }
   },
   "source": [
    "# Veriyi Düzenleme"
   ]
  },
  {
   "cell_type": "code",
   "execution_count": 5,
   "metadata": {
    "slideshow": {
     "slide_type": "slide"
    }
   },
   "outputs": [],
   "source": [
    "def circular_norm(val,max_val):\n",
    "    val = val*2*math.pi/max_val\n",
    "    return np.array([math.cos(val),math.sin(val)])   #circular normalization, nedir neden lazım?\n",
    "\n",
    "def get_date_vec(dstr):\n",
    "    t,s = dstr.split(' ')\n",
    "    day = int(t.split('-')[2])\n",
    "    month = int(t.split('-')[1])\n",
    "    year = int(t.split('-')[0])\n",
    "    hour = int(s.split(':')[0])\n",
    "    dt = datetime(year, month, day, hour)\n",
    "    wday  = dt.weekday()\n",
    "    wdvec = circular_norm(wday,7)\n",
    "    dvec = circular_norm(day,31)\n",
    "    mvec =  circular_norm(month,12)\n",
    "    hvec = circular_norm(hour,24)\n",
    "    date_vec = np.concatenate([wdvec,dvec,mvec,hvec])\n",
    "    return np.float32(date_vec)"
   ]
  },
  {
   "cell_type": "code",
   "execution_count": 13,
   "metadata": {
    "slideshow": {
     "slide_type": "slide"
    }
   },
   "outputs": [],
   "source": [
    "date_vecs = []\n",
    "for pd in df.Payment_Date:\n",
    "    date_vecs.append(get_date_vec(pd)) \n",
    "date_vecs = np.array(date_vecs)   \n",
    "#her bir zaman (haftanın gunu ayın gun ay günün saati - [wdvec,dvec,mvec,hvec]) icin vector hesaplanıyor"
   ]
  },
  {
   "cell_type": "code",
   "execution_count": 9,
   "metadata": {
    "slideshow": {
     "slide_type": "slide"
    }
   },
   "outputs": [],
   "source": [
    "#model 24 saat saatin satış değerlerini alıp 25.saati tahmin ediyor\n",
    "\n",
    "X = df.Payment_Total.values\n",
    "ts_data = []  #timestep data\n",
    "out_data = [] #çıkış: 25. saat satış tutarı\n",
    "day_max = [] # her 24giriş bloğu için maksimum değerleri\n",
    "delay = 24 #input uzunluğu\n",
    "for i in range(0,len(df)-delay): \n",
    "    invec = X[i:i+delay]\n",
    "    dmax = invec.max()\n",
    "    \n",
    "    #günün maks degeriyle norm.\n",
    "    \n",
    "    if dmax == 0 :\n",
    "        dmax =1\n",
    "    day_max.append(dmax)\n",
    "    ts_data.append(invec/dmax) \n",
    "    out_data.append(X[i+delay]/dmax) #25. değer\n",
    "ts_data = np.array(ts_data)\n",
    "out_data = np.array(out_data)"
   ]
  },
  {
   "cell_type": "code",
   "execution_count": 10,
   "metadata": {
    "slideshow": {
     "slide_type": "slide"
    }
   },
   "outputs": [],
   "source": [
    "ts_data = np.expand_dims(np.array(ts_data),-1) \n",
    "\n",
    "# lstm girişinde kullanılabilmesi için 6462 adet 24 time stepte 1 uzunlukta değer gerekiyor."
   ]
  },
  {
   "cell_type": "code",
   "execution_count": 11,
   "metadata": {
    "slideshow": {
     "slide_type": "slide"
    }
   },
   "outputs": [
    {
     "data": {
      "text/plain": [
       "((6462L, 24L, 1L), (6462L,))"
      ]
     },
     "execution_count": 11,
     "metadata": {},
     "output_type": "execute_result"
    }
   ],
   "source": [
    "ts_data.shape,out_data.shape  #Expand dimm sonrası"
   ]
  },
  {
   "cell_type": "code",
   "execution_count": 12,
   "metadata": {
    "slideshow": {
     "slide_type": "slide"
    }
   },
   "outputs": [],
   "source": [
    "split = 4000\n",
    "X1_train = ts_data[:split,:,:]   #egitim verisi olarak 4000 kayıt alınıyor\n",
    "X1_valid = ts_data[split:,:,:]\n",
    "Y_train = out_data[:split]\n",
    "Y_valid = out_data[split:]\n",
    "day_max_train = day_max[:split]\n",
    "day_max_valid = day_max[split:]"
   ]
  },
  {
   "cell_type": "code",
   "execution_count": 14,
   "metadata": {
    "slideshow": {
     "slide_type": "slide"
    }
   },
   "outputs": [],
   "source": [
    "X2_train = date_vecs[delay:split+delay] \n",
    "X2_valid = date_vecs[split+delay:]"
   ]
  },
  {
   "cell_type": "markdown",
   "metadata": {
    "slideshow": {
     "slide_type": "slide"
    }
   },
   "source": [
    "# Model Tanımı Ve Eğitimi"
   ]
  },
  {
   "cell_type": "code",
   "execution_count": 15,
   "metadata": {
    "slideshow": {
     "slide_type": "slide"
    }
   },
   "outputs": [
    {
     "name": "stderr",
     "output_type": "stream",
     "text": [
      "Using CNTK backend\n"
     ]
    }
   ],
   "source": [
    "from keras.models import Model\n",
    "from keras.layers import Dense, Activation,LSTM, GRU,Dropout,concatenate,Input\n",
    "from keras.callbacks import ModelCheckpoint,EarlyStopping,ReduceLROnPlateau"
   ]
  },
  {
   "cell_type": "code",
   "execution_count": 25,
   "metadata": {
    "slideshow": {
     "slide_type": "slide"
    }
   },
   "outputs": [],
   "source": [
    "core_dim = 64\n",
    "dratio = 0.25\n",
    "#lstm\n",
    "x1 = Input(shape=ts_data.shape[1:]) #zaman serisi girişi\n",
    "sub1 = LSTM(core_dim)(x1)  \n",
    "sub1 = Dropout(dratio)(sub1)\n",
    "#dense fixed\n",
    "x2 = Input(shape=date_vecs.shape[1:])   # tahmin edilecek zamanın vektörü\n",
    "sub2 = Dense(2*core_dim,activation='relu')(x2)\n",
    "sub2 = Dropout(dratio)(sub2)\n",
    "sub2 = Dense(core_dim,activation='relu')(sub2)\n",
    "\n",
    "#neden sadece lstm ile tahmin yapılmadı? Tarihin de tahmini etkileyen bir öznitelik olmasından dolayı ayrı bir giriş olarak \n",
    "#alındı.\n",
    "\n",
    "# merging\n",
    "out = concatenate([sub1,sub2])\n",
    "out = Dropout(dratio)(out)\n",
    "out = Dense(core_dim,activation='relu')(out)\n",
    "out = Dropout(dratio)(out)\n",
    "out = Dense(1)(out)\n",
    "model = Model(inputs=[x1, x2], outputs=out)\n",
    "model.compile(loss='mse', optimizer='rmsprop')"
   ]
  },
  {
   "cell_type": "code",
   "execution_count": 26,
   "metadata": {
    "slideshow": {
     "slide_type": "slide"
    }
   },
   "outputs": [
    {
     "name": "stdout",
     "output_type": "stream",
     "text": [
      "__________________________________________________________________________________________________\n",
      "Layer (type)                    Output Shape         Param #     Connected to                     \n",
      "==================================================================================================\n",
      "input_4 (InputLayer)            (None, 8L)           0                                            \n",
      "__________________________________________________________________________________________________\n",
      "input_3 (InputLayer)            (None, 24L, 1L)      0                                            \n",
      "__________________________________________________________________________________________________\n",
      "dense_5 (Dense)                 (None, 128)          1152        input_4[0][0]                    \n",
      "__________________________________________________________________________________________________\n",
      "lstm_2 (LSTM)                   (None, 64)           16896       input_3[0][0]                    \n",
      "__________________________________________________________________________________________________\n",
      "dropout_6 (Dropout)             (None, 128)          0           dense_5[0][0]                    \n",
      "__________________________________________________________________________________________________\n",
      "dropout_5 (Dropout)             (None, 64)           0           lstm_2[0][0]                     \n",
      "__________________________________________________________________________________________________\n",
      "dense_6 (Dense)                 (None, 64)           8256        dropout_6[0][0]                  \n",
      "__________________________________________________________________________________________________\n",
      "concatenate_2 (Concatenate)     (None, 128)          0           dropout_5[0][0]                  \n",
      "                                                                 dense_6[0][0]                    \n",
      "__________________________________________________________________________________________________\n",
      "dropout_7 (Dropout)             (None, 128)          0           concatenate_2[0][0]              \n",
      "__________________________________________________________________________________________________\n",
      "dense_7 (Dense)                 (None, 64)           8256        dropout_7[0][0]                  \n",
      "__________________________________________________________________________________________________\n",
      "dropout_8 (Dropout)             (None, 64)           0           dense_7[0][0]                    \n",
      "__________________________________________________________________________________________________\n",
      "dense_8 (Dense)                 (None, 1)            65          dropout_8[0][0]                  \n",
      "==================================================================================================\n",
      "Total params: 34,625\n",
      "Trainable params: 34,625\n",
      "Non-trainable params: 0\n",
      "__________________________________________________________________________________________________\n"
     ]
    }
   ],
   "source": [
    "model.summary()"
   ]
  },
  {
   "cell_type": "code",
   "execution_count": 30,
   "metadata": {
    "slideshow": {
     "slide_type": "slide"
    }
   },
   "outputs": [
    {
     "data": {
      "image/svg+xml": [
       "<svg height=\"629pt\" viewBox=\"0.00 0.00 273.00 629.00\" width=\"273pt\" xmlns=\"http://www.w3.org/2000/svg\" xmlns:xlink=\"http://www.w3.org/1999/xlink\">\n",
       "<g class=\"graph\" id=\"graph0\" transform=\"scale(1 1) rotate(0) translate(4 625)\">\n",
       "<title>G</title>\n",
       "<polygon fill=\"white\" points=\"-4,4 -4,-625 269,-625 269,4 -4,4\" stroke=\"none\"/>\n",
       "<!-- 1009840592 -->\n",
       "<g class=\"node\" id=\"node1\"><title>1009840592</title>\n",
       "<polygon fill=\"none\" points=\"2,-584.5 2,-620.5 128,-620.5 128,-584.5 2,-584.5\" stroke=\"black\"/>\n",
       "<text font-family=\"Times New Roman,serif\" font-size=\"14.00\" text-anchor=\"middle\" x=\"65\" y=\"-598.8\">input_4: InputLayer</text>\n",
       "</g>\n",
       "<!-- 1006308152 -->\n",
       "<g class=\"node\" id=\"node3\"><title>1006308152</title>\n",
       "<polygon fill=\"none\" points=\"13,-511.5 13,-547.5 117,-547.5 117,-511.5 13,-511.5\" stroke=\"black\"/>\n",
       "<text font-family=\"Times New Roman,serif\" font-size=\"14.00\" text-anchor=\"middle\" x=\"65\" y=\"-525.8\">dense_5: Dense</text>\n",
       "</g>\n",
       "<!-- 1009840592&#45;&gt;1006308152 -->\n",
       "<g class=\"edge\" id=\"edge1\"><title>1009840592-&gt;1006308152</title>\n",
       "<path d=\"M65,-584.313C65,-576.289 65,-566.547 65,-557.569\" fill=\"none\" stroke=\"black\"/>\n",
       "<polygon fill=\"black\" points=\"68.5001,-557.529 65,-547.529 61.5001,-557.529 68.5001,-557.529\" stroke=\"black\"/>\n",
       "</g>\n",
       "<!-- 1006308992 -->\n",
       "<g class=\"node\" id=\"node2\"><title>1006308992</title>\n",
       "<polygon fill=\"none\" points=\"137,-511.5 137,-547.5 263,-547.5 263,-511.5 137,-511.5\" stroke=\"black\"/>\n",
       "<text font-family=\"Times New Roman,serif\" font-size=\"14.00\" text-anchor=\"middle\" x=\"200\" y=\"-525.8\">input_3: InputLayer</text>\n",
       "</g>\n",
       "<!-- 299595312 -->\n",
       "<g class=\"node\" id=\"node4\"><title>299595312</title>\n",
       "<polygon fill=\"none\" points=\"151,-438.5 151,-474.5 249,-474.5 249,-438.5 151,-438.5\" stroke=\"black\"/>\n",
       "<text font-family=\"Times New Roman,serif\" font-size=\"14.00\" text-anchor=\"middle\" x=\"200\" y=\"-452.8\">lstm_2: LSTM</text>\n",
       "</g>\n",
       "<!-- 1006308992&#45;&gt;299595312 -->\n",
       "<g class=\"edge\" id=\"edge2\"><title>1006308992-&gt;299595312</title>\n",
       "<path d=\"M200,-511.313C200,-503.289 200,-493.547 200,-484.569\" fill=\"none\" stroke=\"black\"/>\n",
       "<polygon fill=\"black\" points=\"203.5,-484.529 200,-474.529 196.5,-484.529 203.5,-484.529\" stroke=\"black\"/>\n",
       "</g>\n",
       "<!-- 1006200984 -->\n",
       "<g class=\"node\" id=\"node5\"><title>1006200984</title>\n",
       "<polygon fill=\"none\" points=\"0,-438.5 0,-474.5 130,-474.5 130,-438.5 0,-438.5\" stroke=\"black\"/>\n",
       "<text font-family=\"Times New Roman,serif\" font-size=\"14.00\" text-anchor=\"middle\" x=\"65\" y=\"-452.8\">dropout_6: Dropout</text>\n",
       "</g>\n",
       "<!-- 1006308152&#45;&gt;1006200984 -->\n",
       "<g class=\"edge\" id=\"edge3\"><title>1006308152-&gt;1006200984</title>\n",
       "<path d=\"M65,-511.313C65,-503.289 65,-493.547 65,-484.569\" fill=\"none\" stroke=\"black\"/>\n",
       "<polygon fill=\"black\" points=\"68.5001,-484.529 65,-474.529 61.5001,-484.529 68.5001,-484.529\" stroke=\"black\"/>\n",
       "</g>\n",
       "<!-- 299594584 -->\n",
       "<g class=\"node\" id=\"node6\"><title>299594584</title>\n",
       "<polygon fill=\"none\" points=\"135,-365.5 135,-401.5 265,-401.5 265,-365.5 135,-365.5\" stroke=\"black\"/>\n",
       "<text font-family=\"Times New Roman,serif\" font-size=\"14.00\" text-anchor=\"middle\" x=\"200\" y=\"-379.8\">dropout_5: Dropout</text>\n",
       "</g>\n",
       "<!-- 299595312&#45;&gt;299594584 -->\n",
       "<g class=\"edge\" id=\"edge4\"><title>299595312-&gt;299594584</title>\n",
       "<path d=\"M200,-438.313C200,-430.289 200,-420.547 200,-411.569\" fill=\"none\" stroke=\"black\"/>\n",
       "<polygon fill=\"black\" points=\"203.5,-411.529 200,-401.529 196.5,-411.529 203.5,-411.529\" stroke=\"black\"/>\n",
       "</g>\n",
       "<!-- 1009807032 -->\n",
       "<g class=\"node\" id=\"node7\"><title>1009807032</title>\n",
       "<polygon fill=\"none\" points=\"13,-365.5 13,-401.5 117,-401.5 117,-365.5 13,-365.5\" stroke=\"black\"/>\n",
       "<text font-family=\"Times New Roman,serif\" font-size=\"14.00\" text-anchor=\"middle\" x=\"65\" y=\"-379.8\">dense_6: Dense</text>\n",
       "</g>\n",
       "<!-- 1006200984&#45;&gt;1009807032 -->\n",
       "<g class=\"edge\" id=\"edge5\"><title>1006200984-&gt;1009807032</title>\n",
       "<path d=\"M65,-438.313C65,-430.289 65,-420.547 65,-411.569\" fill=\"none\" stroke=\"black\"/>\n",
       "<polygon fill=\"black\" points=\"68.5001,-411.529 65,-401.529 61.5001,-411.529 68.5001,-411.529\" stroke=\"black\"/>\n",
       "</g>\n",
       "<!-- 1009806696 -->\n",
       "<g class=\"node\" id=\"node8\"><title>1009806696</title>\n",
       "<polygon fill=\"none\" points=\"45.5,-292.5 45.5,-328.5 218.5,-328.5 218.5,-292.5 45.5,-292.5\" stroke=\"black\"/>\n",
       "<text font-family=\"Times New Roman,serif\" font-size=\"14.00\" text-anchor=\"middle\" x=\"132\" y=\"-306.8\">concatenate_2: Concatenate</text>\n",
       "</g>\n",
       "<!-- 299594584&#45;&gt;1009806696 -->\n",
       "<g class=\"edge\" id=\"edge6\"><title>299594584-&gt;1009806696</title>\n",
       "<path d=\"M183.539,-365.313C175.103,-356.505 164.683,-345.625 155.425,-335.958\" fill=\"none\" stroke=\"black\"/>\n",
       "<polygon fill=\"black\" points=\"157.754,-333.33 148.309,-328.529 152.698,-338.172 157.754,-333.33\" stroke=\"black\"/>\n",
       "</g>\n",
       "<!-- 1009807032&#45;&gt;1009806696 -->\n",
       "<g class=\"edge\" id=\"edge7\"><title>1009807032-&gt;1009806696</title>\n",
       "<path d=\"M81.2188,-365.313C89.5309,-356.505 99.7975,-345.625 108.92,-335.958\" fill=\"none\" stroke=\"black\"/>\n",
       "<polygon fill=\"black\" points=\"111.613,-338.204 115.931,-328.529 106.522,-333.4 111.613,-338.204\" stroke=\"black\"/>\n",
       "</g>\n",
       "<!-- 347884400 -->\n",
       "<g class=\"node\" id=\"node9\"><title>347884400</title>\n",
       "<polygon fill=\"none\" points=\"67,-219.5 67,-255.5 197,-255.5 197,-219.5 67,-219.5\" stroke=\"black\"/>\n",
       "<text font-family=\"Times New Roman,serif\" font-size=\"14.00\" text-anchor=\"middle\" x=\"132\" y=\"-233.8\">dropout_7: Dropout</text>\n",
       "</g>\n",
       "<!-- 1009806696&#45;&gt;347884400 -->\n",
       "<g class=\"edge\" id=\"edge8\"><title>1009806696-&gt;347884400</title>\n",
       "<path d=\"M132,-292.313C132,-284.289 132,-274.547 132,-265.569\" fill=\"none\" stroke=\"black\"/>\n",
       "<polygon fill=\"black\" points=\"135.5,-265.529 132,-255.529 128.5,-265.529 135.5,-265.529\" stroke=\"black\"/>\n",
       "</g>\n",
       "<!-- 1004100016 -->\n",
       "<g class=\"node\" id=\"node10\"><title>1004100016</title>\n",
       "<polygon fill=\"none\" points=\"80,-146.5 80,-182.5 184,-182.5 184,-146.5 80,-146.5\" stroke=\"black\"/>\n",
       "<text font-family=\"Times New Roman,serif\" font-size=\"14.00\" text-anchor=\"middle\" x=\"132\" y=\"-160.8\">dense_7: Dense</text>\n",
       "</g>\n",
       "<!-- 347884400&#45;&gt;1004100016 -->\n",
       "<g class=\"edge\" id=\"edge9\"><title>347884400-&gt;1004100016</title>\n",
       "<path d=\"M132,-219.313C132,-211.289 132,-201.547 132,-192.569\" fill=\"none\" stroke=\"black\"/>\n",
       "<polygon fill=\"black\" points=\"135.5,-192.529 132,-182.529 128.5,-192.529 135.5,-192.529\" stroke=\"black\"/>\n",
       "</g>\n",
       "<!-- 347883112 -->\n",
       "<g class=\"node\" id=\"node11\"><title>347883112</title>\n",
       "<polygon fill=\"none\" points=\"67,-73.5 67,-109.5 197,-109.5 197,-73.5 67,-73.5\" stroke=\"black\"/>\n",
       "<text font-family=\"Times New Roman,serif\" font-size=\"14.00\" text-anchor=\"middle\" x=\"132\" y=\"-87.8\">dropout_8: Dropout</text>\n",
       "</g>\n",
       "<!-- 1004100016&#45;&gt;347883112 -->\n",
       "<g class=\"edge\" id=\"edge10\"><title>1004100016-&gt;347883112</title>\n",
       "<path d=\"M132,-146.313C132,-138.289 132,-128.547 132,-119.569\" fill=\"none\" stroke=\"black\"/>\n",
       "<polygon fill=\"black\" points=\"135.5,-119.529 132,-109.529 128.5,-119.529 135.5,-119.529\" stroke=\"black\"/>\n",
       "</g>\n",
       "<!-- 1009936984 -->\n",
       "<g class=\"node\" id=\"node12\"><title>1009936984</title>\n",
       "<polygon fill=\"none\" points=\"80,-0.5 80,-36.5 184,-36.5 184,-0.5 80,-0.5\" stroke=\"black\"/>\n",
       "<text font-family=\"Times New Roman,serif\" font-size=\"14.00\" text-anchor=\"middle\" x=\"132\" y=\"-14.8\">dense_8: Dense</text>\n",
       "</g>\n",
       "<!-- 347883112&#45;&gt;1009936984 -->\n",
       "<g class=\"edge\" id=\"edge11\"><title>347883112-&gt;1009936984</title>\n",
       "<path d=\"M132,-73.3129C132,-65.2895 132,-55.5475 132,-46.5691\" fill=\"none\" stroke=\"black\"/>\n",
       "<polygon fill=\"black\" points=\"135.5,-46.5288 132,-36.5288 128.5,-46.5289 135.5,-46.5288\" stroke=\"black\"/>\n",
       "</g>\n",
       "</g>\n",
       "</svg>"
      ],
      "text/plain": [
       "<IPython.core.display.SVG object>"
      ]
     },
     "execution_count": 30,
     "metadata": {},
     "output_type": "execute_result"
    }
   ],
   "source": [
    "from IPython.display import SVG\n",
    "from keras.utils.vis_utils import model_to_dot\n",
    "SVG(model_to_dot(model).create(prog='dot',format='svg'))"
   ]
  },
  {
   "cell_type": "code",
   "execution_count": 27,
   "metadata": {
    "slideshow": {
     "slide_type": "slide"
    }
   },
   "outputs": [],
   "source": [
    "model_checkpoint = ModelCheckpoint('best_comp.h5', monitor='val_loss', save_best_only=True,verbose=1)\n",
    "redu = ReduceLROnPlateau(monitor='val_loss', factor=0.5, patience=4, verbose=1, mode='min', min_lr=0.00001)\n",
    "early = EarlyStopping(monitor='val_loss', min_delta=0, patience=17, verbose=1, mode='min')\n",
    "cbacks = [model_checkpoint,early,redu]"
   ]
  },
  {
   "cell_type": "code",
   "execution_count": 28,
   "metadata": {
    "slideshow": {
     "slide_type": "slide"
    }
   },
   "outputs": [
    {
     "name": "stdout",
     "output_type": "stream",
     "text": [
      "Train on 4000 samples, validate on 2462 samples\n",
      "Epoch 1/150\n",
      " 192/4000 [>.............................] - ETA: 3s - loss: 0.3228"
     ]
    },
    {
     "name": "stderr",
     "output_type": "stream",
     "text": [
      "C:\\Anaconda2\\lib\\site-packages\\cntk\\core.py:361: UserWarning: your data is of type \"float64\", but your input variable (uid \"Input4055\") expects \"<type 'numpy.float32'>\". Please convert your data beforehand to speed up training.\n",
      "  (sample.dtype, var.uid, str(var.dtype)))\n",
      "C:\\Anaconda2\\lib\\site-packages\\cntk\\core.py:361: UserWarning: your data is of type \"float64\", but your input variable (uid \"Input4621\") expects \"<type 'numpy.float32'>\". Please convert your data beforehand to speed up training.\n",
      "  (sample.dtype, var.uid, str(var.dtype)))\n"
     ]
    },
    {
     "name": "stdout",
     "output_type": "stream",
     "text": [
      "4000/4000 [==============================] - 2s 591us/step - loss: 0.0701 - val_loss: 0.0284\n",
      "\n",
      "Epoch 00001: val_loss improved from inf to 0.02839, saving model to best_comp.h5\n",
      "Epoch 2/150\n",
      "4000/4000 [==============================] - 2s 568us/step - loss: 0.0321 - val_loss: 0.0249\n",
      "\n",
      "Epoch 00002: val_loss improved from 0.02839 to 0.02485, saving model to best_comp.h5\n",
      "Epoch 3/150\n",
      "4000/4000 [==============================] - 2s 572us/step - loss: 0.0256 - val_loss: 0.0207\n",
      "\n",
      "Epoch 00003: val_loss improved from 0.02485 to 0.02071, saving model to best_comp.h5\n",
      "Epoch 4/150\n",
      "4000/4000 [==============================] - 2s 537us/step - loss: 0.0221 - val_loss: 0.0202\n",
      "\n",
      "Epoch 00004: val_loss improved from 0.02071 to 0.02025, saving model to best_comp.h5\n",
      "Epoch 5/150\n",
      "4000/4000 [==============================] - 2s 553us/step - loss: 0.0191 - val_loss: 0.0227\n",
      "\n",
      "Epoch 00005: val_loss did not improve from 0.02025\n",
      "Epoch 6/150\n",
      "4000/4000 [==============================] - 2s 537us/step - loss: 0.0179 - val_loss: 0.0201\n",
      "\n",
      "Epoch 00006: val_loss improved from 0.02025 to 0.02006, saving model to best_comp.h5\n",
      "Epoch 7/150\n",
      "4000/4000 [==============================] - 2s 537us/step - loss: 0.0168 - val_loss: 0.0216\n",
      "\n",
      "Epoch 00007: val_loss did not improve from 0.02006\n",
      "Epoch 8/150\n",
      "4000/4000 [==============================] - 2s 537us/step - loss: 0.0165 - val_loss: 0.0200\n",
      "\n",
      "Epoch 00008: val_loss improved from 0.02006 to 0.01997, saving model to best_comp.h5\n",
      "Epoch 9/150\n",
      "4000/4000 [==============================] - 2s 537us/step - loss: 0.0158 - val_loss: 0.0216\n",
      "\n",
      "Epoch 00009: val_loss did not improve from 0.01997\n",
      "Epoch 10/150\n",
      "4000/4000 [==============================] - 2s 526us/step - loss: 0.0155 - val_loss: 0.0236\n",
      "\n",
      "Epoch 00010: val_loss did not improve from 0.01997\n",
      "\n",
      "Epoch 00010: ReduceLROnPlateau reducing learning rate to 0.000500000023749.\n",
      "Epoch 11/150\n",
      "4000/4000 [==============================] - 2s 539us/step - loss: 0.0149 - val_loss: 0.0229\n",
      "\n",
      "Epoch 00011: val_loss did not improve from 0.01997\n",
      "Epoch 12/150\n",
      "4000/4000 [==============================] - 2s 533us/step - loss: 0.0141 - val_loss: 0.0231\n",
      "\n",
      "Epoch 00012: val_loss did not improve from 0.01997\n",
      "Epoch 13/150\n",
      "4000/4000 [==============================] - 2s 536us/step - loss: 0.0144 - val_loss: 0.0221\n",
      "\n",
      "Epoch 00013: val_loss did not improve from 0.01997\n",
      "Epoch 14/150\n",
      "4000/4000 [==============================] - 2s 584us/step - loss: 0.0139 - val_loss: 0.0222\n",
      "\n",
      "Epoch 00014: val_loss did not improve from 0.01997\n",
      "\n",
      "Epoch 00014: ReduceLROnPlateau reducing learning rate to 0.000250000011874.\n",
      "Epoch 15/150\n",
      "4000/4000 [==============================] - 2s 540us/step - loss: 0.0137 - val_loss: 0.0228\n",
      "\n",
      "Epoch 00015: val_loss did not improve from 0.01997\n",
      "Epoch 16/150\n",
      "4000/4000 [==============================] - 2s 537us/step - loss: 0.0136 - val_loss: 0.0236\n",
      "\n",
      "Epoch 00016: val_loss did not improve from 0.01997\n",
      "Epoch 17/150\n",
      "4000/4000 [==============================] - 2s 569us/step - loss: 0.0132 - val_loss: 0.0230\n",
      "\n",
      "Epoch 00017: val_loss did not improve from 0.01997\n",
      "Epoch 18/150\n",
      "4000/4000 [==============================] - 2s 619us/step - loss: 0.0131 - val_loss: 0.0232\n",
      "\n",
      "Epoch 00018: val_loss did not improve from 0.01997\n",
      "\n",
      "Epoch 00018: ReduceLROnPlateau reducing learning rate to 0.000125000005937.\n",
      "Epoch 19/150\n",
      "4000/4000 [==============================] - 2s 593us/step - loss: 0.0132 - val_loss: 0.0236\n",
      "\n",
      "Epoch 00019: val_loss did not improve from 0.01997\n",
      "Epoch 20/150\n",
      "4000/4000 [==============================] - 2s 549us/step - loss: 0.0132 - val_loss: 0.0232\n",
      "\n",
      "Epoch 00020: val_loss did not improve from 0.01997\n",
      "Epoch 21/150\n",
      "4000/4000 [==============================] - 2s 541us/step - loss: 0.0133 - val_loss: 0.0238\n",
      "\n",
      "Epoch 00021: val_loss did not improve from 0.01997\n",
      "Epoch 22/150\n",
      "4000/4000 [==============================] - 2s 599us/step - loss: 0.0135 - val_loss: 0.0244\n",
      "\n",
      "Epoch 00022: val_loss did not improve from 0.01997\n",
      "\n",
      "Epoch 00022: ReduceLROnPlateau reducing learning rate to 6.25000029686e-05.\n",
      "Epoch 23/150\n",
      "4000/4000 [==============================] - 2s 588us/step - loss: 0.0128 - val_loss: 0.0233\n",
      "\n",
      "Epoch 00023: val_loss did not improve from 0.01997\n",
      "Epoch 24/150\n",
      "4000/4000 [==============================] - 2s 557us/step - loss: 0.0128 - val_loss: 0.0235\n",
      "\n",
      "Epoch 00024: val_loss did not improve from 0.01997\n",
      "Epoch 25/150\n",
      "4000/4000 [==============================] - 2s 607us/step - loss: 0.0125 - val_loss: 0.0234\n",
      "\n",
      "Epoch 00025: val_loss did not improve from 0.01997\n",
      "Epoch 00025: early stopping\n"
     ]
    }
   ],
   "source": [
    "hs = model.fit([X1_train,X2_train], Y_train, batch_size=64, \n",
    "               epochs=150,validation_data=([X1_valid,X2_valid],Y_valid),callbacks=cbacks) "
   ]
  },
  {
   "cell_type": "code",
   "execution_count": 19,
   "metadata": {
    "slideshow": {
     "slide_type": "slide"
    }
   },
   "outputs": [
    {
     "data": {
      "image/png": "[encoded data removed]",
      "text/plain": [
       "<matplotlib.figure.Figure at 0x148c4198>"
      ]
     },
     "metadata": {},
     "output_type": "display_data"
    }
   ],
   "source": [
    "# loss plot\n",
    "plt.figure(figsize=(12,5))\n",
    "plt.plot(hs.history['loss'])\n",
    "plt.plot(hs.history['val_loss'])\n",
    "plt.title('model mean squared error loss')\n",
    "plt.ylabel('mean squared error loss')\n",
    "plt.xlabel('epoch')\n",
    "plt.legend(['training set', 'validation set'], loc='upper right')\n",
    "plt.show()"
   ]
  },
  {
   "cell_type": "code",
   "execution_count": 20,
   "metadata": {
    "slideshow": {
     "slide_type": "slide"
    }
   },
   "outputs": [],
   "source": [
    "model.load_weights('best_comp.h5')"
   ]
  },
  {
   "cell_type": "code",
   "execution_count": 23,
   "metadata": {
    "slideshow": {
     "slide_type": "slide"
    }
   },
   "outputs": [],
   "source": [
    "preds = model.predict([X1_valid,X2_valid])\n",
    "preds = preds[:,0]"
   ]
  },
  {
   "cell_type": "code",
   "execution_count": 24,
   "metadata": {
    "slideshow": {
     "slide_type": "slide"
    }
   },
   "outputs": [
    {
     "data": {
      "text/plain": [
       "<matplotlib.legend.Legend at 0x14796e80>"
      ]
     },
     "execution_count": 24,
     "metadata": {},
     "output_type": "execute_result"
    },
    {
     "data": {
      "image/png": "[encoded data removed]",
      "text/plain": [
       "<matplotlib.figure.Figure at 0x3bf969e8>"
      ]
     },
     "metadata": {},
     "output_type": "display_data"
    }
   ],
   "source": [
    "beg = 900\n",
    "end = 1200\n",
    "plt.figure(figsize=(12,5))\n",
    "plt.plot(preds[beg:end]*day_max_valid[beg:end])\n",
    "plt.plot(Y_valid[beg:end]*day_max_valid[beg:end])\n",
    "plt.legend(['prediction', 'real'], loc='upper right')"
   ]
  }
 ],
 "metadata": {
  "celltoolbar": "Slideshow",
  "kernelspec": {
   "display_name": "Python 2",
   "language": "python",
   "name": "python2"
  },
  "language_info": {
   "codemirror_mode": {
    "name": "ipython",
    "version": 2
   },
   "file_extension": ".py",
   "mimetype": "text/x-python",
   "name": "python",
   "nbconvert_exporter": "python",
   "pygments_lexer": "ipython2",
   "version": "2.7.13"
  }
 },
 "nbformat": 4,
 "nbformat_minor": 2
}
